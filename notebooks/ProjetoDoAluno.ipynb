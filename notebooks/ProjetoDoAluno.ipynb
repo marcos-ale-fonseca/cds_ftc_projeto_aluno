{
 "cells": [
  {
   "cell_type": "markdown",
   "metadata": {},
   "source": [
    "# 1.0 - IMPORTS"
   ]
  },
  {
   "cell_type": "code",
   "execution_count": 48,
   "metadata": {},
   "outputs": [],
   "source": [
    "# Adicione o caminho do diretório raiz do projeto\n",
    "import os, sys; sys.path.append(os.path.abspath('../'))\n",
    "\n",
    "import pandas as pd\n",
    "import numpy as np\n",
    "import importlib\n",
    "import plotly.express as px\n",
    "\n",
    "from packages import etl\n",
    "from packages import utils\n",
    "from packages import layouts\n",
    "\n",
    "importlib.reload(etl.extract)\n",
    "importlib.reload(etl.load)\n",
    "importlib.reload(etl.transform)\n",
    "importlib.reload(utils)\n",
    "importlib.reload(layouts)\n",
    "\n",
    "pd.set_option('display.max_columns', None);"
   ]
  },
  {
   "cell_type": "markdown",
   "metadata": {},
   "source": [
    "# 2.0 - ETL"
   ]
  },
  {
   "cell_type": "code",
   "execution_count": 34,
   "metadata": {},
   "outputs": [
    {
     "data": {
      "text/html": [
       "<div>\n",
       "<style scoped>\n",
       "    .dataframe tbody tr th:only-of-type {\n",
       "        vertical-align: middle;\n",
       "    }\n",
       "\n",
       "    .dataframe tbody tr th {\n",
       "        vertical-align: top;\n",
       "    }\n",
       "\n",
       "    .dataframe thead th {\n",
       "        text-align: right;\n",
       "    }\n",
       "</style>\n",
       "<table border=\"1\" class=\"dataframe\">\n",
       "  <thead>\n",
       "    <tr style=\"text-align: right;\">\n",
       "      <th></th>\n",
       "      <th>restaurant_id</th>\n",
       "      <th>restaurant_name</th>\n",
       "      <th>country_code</th>\n",
       "      <th>city</th>\n",
       "      <th>address</th>\n",
       "      <th>locality</th>\n",
       "      <th>locality_verbose</th>\n",
       "      <th>longitude</th>\n",
       "      <th>latitude</th>\n",
       "      <th>cuisines</th>\n",
       "      <th>average_cost_for_two</th>\n",
       "      <th>currency</th>\n",
       "      <th>has_table_booking</th>\n",
       "      <th>has_online_delivery</th>\n",
       "      <th>is_delivering_now</th>\n",
       "      <th>price_range</th>\n",
       "      <th>aggregate_rating</th>\n",
       "      <th>rating_color</th>\n",
       "      <th>rating_text</th>\n",
       "      <th>votes</th>\n",
       "      <th>rating_color_name</th>\n",
       "      <th>rating_name</th>\n",
       "      <th>country_name</th>\n",
       "      <th>price_type</th>\n",
       "    </tr>\n",
       "  </thead>\n",
       "  <tbody>\n",
       "    <tr>\n",
       "      <th>0</th>\n",
       "      <td>6310675</td>\n",
       "      <td>Mama Lou's Italian Kitchen</td>\n",
       "      <td>162</td>\n",
       "      <td>Las Piñas City</td>\n",
       "      <td>Block 1, Lot 36, Tropical Avenue Corner Tropic...</td>\n",
       "      <td>BF International</td>\n",
       "      <td>BF International, Las Piñas City</td>\n",
       "      <td>121.009787</td>\n",
       "      <td>14.447615</td>\n",
       "      <td>Italian</td>\n",
       "      <td>1100</td>\n",
       "      <td>Botswana Pula(P)</td>\n",
       "      <td>1</td>\n",
       "      <td>0</td>\n",
       "      <td>0</td>\n",
       "      <td>3</td>\n",
       "      <td>4.6</td>\n",
       "      <td>3F7E00</td>\n",
       "      <td>Excellent</td>\n",
       "      <td>619</td>\n",
       "      <td>darkgreen</td>\n",
       "      <td>excellent</td>\n",
       "      <td>Philippines</td>\n",
       "      <td>expensive</td>\n",
       "    </tr>\n",
       "    <tr>\n",
       "      <th>2</th>\n",
       "      <td>6314542</td>\n",
       "      <td>Blackbird</td>\n",
       "      <td>162</td>\n",
       "      <td>Makati City</td>\n",
       "      <td>Nielson Tower, Ayala Triangle Gardens, Salcedo...</td>\n",
       "      <td>Ayala Triangle Gardens, Salcedo Village, Makat...</td>\n",
       "      <td>Ayala Triangle Gardens, Salcedo Village, Makat...</td>\n",
       "      <td>121.024562</td>\n",
       "      <td>14.556042</td>\n",
       "      <td>European</td>\n",
       "      <td>3100</td>\n",
       "      <td>Botswana Pula(P)</td>\n",
       "      <td>0</td>\n",
       "      <td>0</td>\n",
       "      <td>0</td>\n",
       "      <td>4</td>\n",
       "      <td>4.7</td>\n",
       "      <td>3F7E00</td>\n",
       "      <td>Excellent</td>\n",
       "      <td>469</td>\n",
       "      <td>darkgreen</td>\n",
       "      <td>excellent</td>\n",
       "      <td>Philippines</td>\n",
       "      <td>gourmet</td>\n",
       "    </tr>\n",
       "    <tr>\n",
       "      <th>3</th>\n",
       "      <td>6301293</td>\n",
       "      <td>Banapple</td>\n",
       "      <td>162</td>\n",
       "      <td>Makati City</td>\n",
       "      <td>Ayala Triangle Gardens, Salcedo Village, Makat...</td>\n",
       "      <td>Ayala Triangle Gardens, Salcedo Village, Makat...</td>\n",
       "      <td>Ayala Triangle Gardens, Salcedo Village, Makat...</td>\n",
       "      <td>121.023171</td>\n",
       "      <td>14.556196</td>\n",
       "      <td>Filipino</td>\n",
       "      <td>800</td>\n",
       "      <td>Botswana Pula(P)</td>\n",
       "      <td>0</td>\n",
       "      <td>0</td>\n",
       "      <td>0</td>\n",
       "      <td>3</td>\n",
       "      <td>4.4</td>\n",
       "      <td>5BA829</td>\n",
       "      <td>Very Good</td>\n",
       "      <td>867</td>\n",
       "      <td>green</td>\n",
       "      <td>great</td>\n",
       "      <td>Philippines</td>\n",
       "      <td>expensive</td>\n",
       "    </tr>\n",
       "    <tr>\n",
       "      <th>4</th>\n",
       "      <td>6315689</td>\n",
       "      <td>Bad Bird</td>\n",
       "      <td>162</td>\n",
       "      <td>Makati City</td>\n",
       "      <td>Hole In The Wall, Floor 4, Century City Mall, ...</td>\n",
       "      <td>Century City Mall, Poblacion, Makati City</td>\n",
       "      <td>Century City Mall, Poblacion, Makati City, Mak...</td>\n",
       "      <td>121.027708</td>\n",
       "      <td>14.565899</td>\n",
       "      <td>American</td>\n",
       "      <td>700</td>\n",
       "      <td>Botswana Pula(P)</td>\n",
       "      <td>0</td>\n",
       "      <td>0</td>\n",
       "      <td>0</td>\n",
       "      <td>3</td>\n",
       "      <td>4.4</td>\n",
       "      <td>5BA829</td>\n",
       "      <td>Very Good</td>\n",
       "      <td>858</td>\n",
       "      <td>green</td>\n",
       "      <td>great</td>\n",
       "      <td>Philippines</td>\n",
       "      <td>expensive</td>\n",
       "    </tr>\n",
       "    <tr>\n",
       "      <th>5</th>\n",
       "      <td>6304833</td>\n",
       "      <td>Manam</td>\n",
       "      <td>162</td>\n",
       "      <td>Makati City</td>\n",
       "      <td>Level 1, Greenbelt 2, Ayala Center, Greenbelt,...</td>\n",
       "      <td>Greenbelt 2, San Lorenzo, Makati City</td>\n",
       "      <td>Greenbelt 2, San Lorenzo, Makati City, Makati ...</td>\n",
       "      <td>121.020380</td>\n",
       "      <td>14.552351</td>\n",
       "      <td>Filipino</td>\n",
       "      <td>700</td>\n",
       "      <td>Botswana Pula(P)</td>\n",
       "      <td>0</td>\n",
       "      <td>0</td>\n",
       "      <td>0</td>\n",
       "      <td>3</td>\n",
       "      <td>4.7</td>\n",
       "      <td>3F7E00</td>\n",
       "      <td>Excellent</td>\n",
       "      <td>930</td>\n",
       "      <td>darkgreen</td>\n",
       "      <td>excellent</td>\n",
       "      <td>Philippines</td>\n",
       "      <td>expensive</td>\n",
       "    </tr>\n",
       "  </tbody>\n",
       "</table>\n",
       "</div>"
      ],
      "text/plain": [
       "   restaurant_id             restaurant_name  country_code            city  \\\n",
       "0        6310675  Mama Lou's Italian Kitchen           162  Las Piñas City   \n",
       "2        6314542                   Blackbird           162     Makati City   \n",
       "3        6301293                    Banapple           162     Makati City   \n",
       "4        6315689                    Bad Bird           162     Makati City   \n",
       "5        6304833                       Manam           162     Makati City   \n",
       "\n",
       "                                             address  \\\n",
       "0  Block 1, Lot 36, Tropical Avenue Corner Tropic...   \n",
       "2  Nielson Tower, Ayala Triangle Gardens, Salcedo...   \n",
       "3  Ayala Triangle Gardens, Salcedo Village, Makat...   \n",
       "4  Hole In The Wall, Floor 4, Century City Mall, ...   \n",
       "5  Level 1, Greenbelt 2, Ayala Center, Greenbelt,...   \n",
       "\n",
       "                                            locality  \\\n",
       "0                                   BF International   \n",
       "2  Ayala Triangle Gardens, Salcedo Village, Makat...   \n",
       "3  Ayala Triangle Gardens, Salcedo Village, Makat...   \n",
       "4          Century City Mall, Poblacion, Makati City   \n",
       "5              Greenbelt 2, San Lorenzo, Makati City   \n",
       "\n",
       "                                    locality_verbose   longitude   latitude  \\\n",
       "0                   BF International, Las Piñas City  121.009787  14.447615   \n",
       "2  Ayala Triangle Gardens, Salcedo Village, Makat...  121.024562  14.556042   \n",
       "3  Ayala Triangle Gardens, Salcedo Village, Makat...  121.023171  14.556196   \n",
       "4  Century City Mall, Poblacion, Makati City, Mak...  121.027708  14.565899   \n",
       "5  Greenbelt 2, San Lorenzo, Makati City, Makati ...  121.020380  14.552351   \n",
       "\n",
       "   cuisines  average_cost_for_two          currency has_table_booking  \\\n",
       "0   Italian                  1100  Botswana Pula(P)                 1   \n",
       "2  European                  3100  Botswana Pula(P)                 0   \n",
       "3  Filipino                   800  Botswana Pula(P)                 0   \n",
       "4  American                   700  Botswana Pula(P)                 0   \n",
       "5  Filipino                   700  Botswana Pula(P)                 0   \n",
       "\n",
       "  has_online_delivery is_delivering_now price_range  aggregate_rating  \\\n",
       "0                   0                 0           3               4.6   \n",
       "2                   0                 0           4               4.7   \n",
       "3                   0                 0           3               4.4   \n",
       "4                   0                 0           3               4.4   \n",
       "5                   0                 0           3               4.7   \n",
       "\n",
       "  rating_color rating_text  votes rating_color_name rating_name country_name  \\\n",
       "0       3F7E00   Excellent    619         darkgreen   excellent  Philippines   \n",
       "2       3F7E00   Excellent    469         darkgreen   excellent  Philippines   \n",
       "3       5BA829   Very Good    867             green       great  Philippines   \n",
       "4       5BA829   Very Good    858             green       great  Philippines   \n",
       "5       3F7E00   Excellent    930         darkgreen   excellent  Philippines   \n",
       "\n",
       "  price_type  \n",
       "0  expensive  \n",
       "2    gourmet  \n",
       "3  expensive  \n",
       "4  expensive  \n",
       "5  expensive  "
      ]
     },
     "execution_count": 34,
     "metadata": {},
     "output_type": "execute_result"
    }
   ],
   "source": [
    "# Extrair os dados\n",
    "df_raw = etl.extract.csv('../data/raw/zomato.csv')\n",
    "\n",
    "# Transformar os dados\n",
    "df = etl.transform.dataframe(df_raw)\n",
    "\n",
    "# Salvar os dados transformados (opcional)\n",
    "etl.load.save(df, '../data/processed/zomato.csv')\n",
    "\n",
    "# Visualizar os dados\n",
    "df.head()"
   ]
  },
  {
   "cell_type": "code",
   "execution_count": 71,
   "metadata": {},
   "outputs": [
    {
     "data": {
      "text/html": [
       "<div>\n",
       "<style scoped>\n",
       "    .dataframe tbody tr th:only-of-type {\n",
       "        vertical-align: middle;\n",
       "    }\n",
       "\n",
       "    .dataframe tbody tr th {\n",
       "        vertical-align: top;\n",
       "    }\n",
       "\n",
       "    .dataframe thead th {\n",
       "        text-align: right;\n",
       "    }\n",
       "</style>\n",
       "<table border=\"1\" class=\"dataframe\">\n",
       "  <thead>\n",
       "    <tr style=\"text-align: right;\">\n",
       "      <th></th>\n",
       "      <th>country_name</th>\n",
       "      <th>city</th>\n",
       "      <th>cuisines</th>\n",
       "      <th>aggregate_rating</th>\n",
       "    </tr>\n",
       "  </thead>\n",
       "  <tbody>\n",
       "    <tr>\n",
       "      <th>105</th>\n",
       "      <td>Brazil</td>\n",
       "      <td>Brasília</td>\n",
       "      <td>Brazilian</td>\n",
       "      <td>0.0</td>\n",
       "    </tr>\n",
       "    <tr>\n",
       "      <th>106</th>\n",
       "      <td>Brazil</td>\n",
       "      <td>Brasília</td>\n",
       "      <td>Bar Food</td>\n",
       "      <td>0.0</td>\n",
       "    </tr>\n",
       "    <tr>\n",
       "      <th>107</th>\n",
       "      <td>Brazil</td>\n",
       "      <td>Brasília</td>\n",
       "      <td>Seafood</td>\n",
       "      <td>0.0</td>\n",
       "    </tr>\n",
       "    <tr>\n",
       "      <th>123</th>\n",
       "      <td>Brazil</td>\n",
       "      <td>Brasília</td>\n",
       "      <td>Japanese</td>\n",
       "      <td>0.0</td>\n",
       "    </tr>\n",
       "    <tr>\n",
       "      <th>124</th>\n",
       "      <td>Brazil</td>\n",
       "      <td>Brasília</td>\n",
       "      <td>Tex-Mex</td>\n",
       "      <td>0.0</td>\n",
       "    </tr>\n",
       "    <tr>\n",
       "      <th>...</th>\n",
       "      <td>...</td>\n",
       "      <td>...</td>\n",
       "      <td>...</td>\n",
       "      <td>...</td>\n",
       "    </tr>\n",
       "    <tr>\n",
       "      <th>6798</th>\n",
       "      <td>England</td>\n",
       "      <td>Manchester</td>\n",
       "      <td>Indian</td>\n",
       "      <td>0.0</td>\n",
       "    </tr>\n",
       "    <tr>\n",
       "      <th>7009</th>\n",
       "      <td>South Africa</td>\n",
       "      <td>Clarens</td>\n",
       "      <td>Cafe</td>\n",
       "      <td>0.0</td>\n",
       "    </tr>\n",
       "    <tr>\n",
       "      <th>7010</th>\n",
       "      <td>South Africa</td>\n",
       "      <td>Clarens</td>\n",
       "      <td>Grill</td>\n",
       "      <td>0.0</td>\n",
       "    </tr>\n",
       "    <tr>\n",
       "      <th>7011</th>\n",
       "      <td>South Africa</td>\n",
       "      <td>Clarens</td>\n",
       "      <td>Drinks Only</td>\n",
       "      <td>0.0</td>\n",
       "    </tr>\n",
       "    <tr>\n",
       "      <th>7012</th>\n",
       "      <td>South Africa</td>\n",
       "      <td>Clarens</td>\n",
       "      <td>Contemporary</td>\n",
       "      <td>0.0</td>\n",
       "    </tr>\n",
       "  </tbody>\n",
       "</table>\n",
       "<p>110 rows × 4 columns</p>\n",
       "</div>"
      ],
      "text/plain": [
       "      country_name        city      cuisines  aggregate_rating\n",
       "105         Brazil    Brasília     Brazilian               0.0\n",
       "106         Brazil    Brasília      Bar Food               0.0\n",
       "107         Brazil    Brasília       Seafood               0.0\n",
       "123         Brazil    Brasília      Japanese               0.0\n",
       "124         Brazil    Brasília       Tex-Mex               0.0\n",
       "...            ...         ...           ...               ...\n",
       "6798       England  Manchester        Indian               0.0\n",
       "7009  South Africa     Clarens          Cafe               0.0\n",
       "7010  South Africa     Clarens         Grill               0.0\n",
       "7011  South Africa     Clarens   Drinks Only               0.0\n",
       "7012  South Africa     Clarens  Contemporary               0.0\n",
       "\n",
       "[110 rows x 4 columns]"
      ]
     },
     "execution_count": 71,
     "metadata": {},
     "output_type": "execute_result"
    }
   ],
   "source": [
    "df[df.aggregate_rating == 0][[\n",
    "    'country_name',\n",
    "    'city',\n",
    "    'cuisines',\n",
    "    'aggregate_rating'\n",
    "]].groupby([\n",
    "    'country_name',\n",
    "    'city',\n",
    "    'cuisines'\n",
    "]).count()"
   ]
  },
  {
   "cell_type": "markdown",
   "metadata": {},
   "source": [
    "# 3.0 - Desafio"
   ]
  },
  {
   "cell_type": "markdown",
   "metadata": {},
   "source": [
    "## 3.1 - Geral"
   ]
  },
  {
   "cell_type": "markdown",
   "metadata": {},
   "source": [
    "### 1. Quantos restaurantes únicos estão registrados?"
   ]
  },
  {
   "cell_type": "code",
   "execution_count": null,
   "metadata": {},
   "outputs": [],
   "source": [
    "df.restaurant_id.nunique()"
   ]
  },
  {
   "cell_type": "markdown",
   "metadata": {},
   "source": [
    "### 2. Quantos países únicos estão registrados?"
   ]
  },
  {
   "cell_type": "code",
   "execution_count": null,
   "metadata": {},
   "outputs": [],
   "source": [
    "df.country_name.nunique()"
   ]
  },
  {
   "cell_type": "markdown",
   "metadata": {},
   "source": [
    "### 3. Quantas cidades únicas estão registradas?"
   ]
  },
  {
   "cell_type": "code",
   "execution_count": null,
   "metadata": {},
   "outputs": [],
   "source": [
    "df.city.nunique()"
   ]
  },
  {
   "cell_type": "markdown",
   "metadata": {},
   "source": [
    "### 4. Qual o total de avaliações feitas?"
   ]
  },
  {
   "cell_type": "code",
   "execution_count": null,
   "metadata": {},
   "outputs": [],
   "source": [
    "df.votes.sum()"
   ]
  },
  {
   "cell_type": "markdown",
   "metadata": {},
   "source": [
    "### 5. Qual o total de tipos de culinária registrados?"
   ]
  },
  {
   "cell_type": "code",
   "execution_count": null,
   "metadata": {},
   "outputs": [],
   "source": [
    "df.cuisines.nunique()"
   ]
  },
  {
   "cell_type": "markdown",
   "metadata": {},
   "source": [
    "## 3.2 - País"
   ]
  },
  {
   "cell_type": "markdown",
   "metadata": {},
   "source": [
    "### 1. Qual o nome do país que possui mais cidades registradas?"
   ]
  },
  {
   "cell_type": "code",
   "execution_count": null,
   "metadata": {},
   "outputs": [],
   "source": [
    "(df[['country_name', \n",
    "    'city']].groupby([\n",
    "    'country_name'])\n",
    "    .count()\n",
    "    .reset_index()\n",
    "    .sort_values('city', ascending=False))"
   ]
  },
  {
   "cell_type": "markdown",
   "metadata": {},
   "source": [
    "### 2. Qual o nome do país que possui mais restaurantes registrados?"
   ]
  },
  {
   "cell_type": "code",
   "execution_count": null,
   "metadata": {},
   "outputs": [],
   "source": [
    "(df[['country_name', \n",
    "    'restaurant_id']].groupby([\n",
    "    'country_name'])\n",
    "    .count()\n",
    "    .reset_index()\n",
    "    .sort_values('restaurant_id', ascending=False))"
   ]
  },
  {
   "cell_type": "markdown",
   "metadata": {},
   "source": [
    "### 3. Qual o nome do país que possui mais restaurantes com o nível de preço igual a 4 registrados?"
   ]
  },
  {
   "cell_type": "code",
   "execution_count": null,
   "metadata": {},
   "outputs": [],
   "source": [
    "df_aux = df[df['price_range'] == 4]\n",
    "\n",
    "(df_aux[['country_name', 'city']]\n",
    " .groupby(['country_name'])\n",
    " .count()\n",
    " .reset_index()\n",
    " .sort_values(['city'], ascending=False))"
   ]
  },
  {
   "cell_type": "markdown",
   "metadata": {},
   "source": [
    "### 4. Qual o nome do país que possui a maior quantidade de tipos de culinária distintos?"
   ]
  },
  {
   "cell_type": "code",
   "execution_count": null,
   "metadata": {},
   "outputs": [],
   "source": [
    "(df_aux[['country_name', 'cuisines']]\n",
    " .groupby(['country_name'])\n",
    " .count()\n",
    " .reset_index()\n",
    " .sort_values(['cuisines'], ascending=False))"
   ]
  },
  {
   "cell_type": "markdown",
   "metadata": {},
   "source": [
    "### 5. Qual o nome do país que possui a maior quantidade de avaliações feitas?"
   ]
  },
  {
   "cell_type": "code",
   "execution_count": null,
   "metadata": {},
   "outputs": [],
   "source": [
    "(df_aux[['country_name', 'votes']]\n",
    " .groupby(['country_name'])\n",
    " .sum()\n",
    " .reset_index()\n",
    " .sort_values(['votes'], ascending=False))"
   ]
  },
  {
   "cell_type": "markdown",
   "metadata": {},
   "source": [
    "### 6. Qual o nome do país que possui a maior quantidade de restaurantes que fazem entrega?"
   ]
  },
  {
   "cell_type": "code",
   "execution_count": null,
   "metadata": {},
   "outputs": [],
   "source": [
    "df__delivery = df[df['is_delivering_now'] == 1]\n",
    "(df__delivery[['country_name', 'is_delivering_now']]\n",
    " .groupby(['country_name'])\n",
    " .count()\n",
    " .reset_index()\n",
    " .sort_values(['is_delivering_now'], ascending=False)\n",
    " .head(1))"
   ]
  },
  {
   "cell_type": "markdown",
   "metadata": {},
   "source": [
    "### 7. Qual o nome do país que possui a maior quantidade de restaurantes que aceitam reservas?"
   ]
  },
  {
   "cell_type": "code",
   "execution_count": null,
   "metadata": {},
   "outputs": [],
   "source": [
    "df_aux = df[df['has_table_booking'] == 1]\n",
    "\n",
    "(df_aux[['country_name', 'has_table_booking']]\n",
    " .groupby(['country_name'])\n",
    " .count()\n",
    " .reset_index()\n",
    " .sort_values(['has_table_booking'], ascending=False))"
   ]
  },
  {
   "cell_type": "markdown",
   "metadata": {},
   "source": [
    "### 8. Qual o nome do país que possui, na média, a maior quantidade de avaliações registrada?"
   ]
  },
  {
   "cell_type": "code",
   "execution_count": null,
   "metadata": {},
   "outputs": [],
   "source": [
    "df_avg_votes = (df_aux[['country_name', 'votes']]\n",
    "          .groupby(['country_name'])\n",
    "          .mean()\n",
    "          .reset_index()\n",
    "          .sort_values(['votes'], ascending=False))\n",
    "df_avg_votes.columns = ['country_name', 'avg_votes']\n",
    "df_avg_votes"
   ]
  },
  {
   "cell_type": "markdown",
   "metadata": {},
   "source": [
    "### 9. Qual o nome do país que possui, na média, a maior nota média registrada?"
   ]
  },
  {
   "cell_type": "code",
   "execution_count": null,
   "metadata": {},
   "outputs": [],
   "source": [
    "(df[['country_name', 'aggregate_rating']]\n",
    " .groupby(['country_name'])\n",
    " .mean()\n",
    " .sort_values('aggregate_rating', ascending=False)\n",
    " .reset_index()\n",
    " .head(1))"
   ]
  },
  {
   "cell_type": "markdown",
   "metadata": {},
   "source": [
    "### 10. Qual a média de preço de um prato para dois por país?"
   ]
  },
  {
   "cell_type": "code",
   "execution_count": null,
   "metadata": {},
   "outputs": [],
   "source": [
    "df.average_cost_for_two.mean()"
   ]
  },
  {
   "cell_type": "markdown",
   "metadata": {},
   "source": [
    "## 3.3 - Cidade"
   ]
  },
  {
   "cell_type": "markdown",
   "metadata": {},
   "source": [
    "### 1. Qual o nome da cidade que possui mais restaurantes registrados?"
   ]
  },
  {
   "cell_type": "code",
   "execution_count": null,
   "metadata": {},
   "outputs": [],
   "source": [
    "(df[['restaurant_id', 'city']]\n",
    " .groupby(['city'])\n",
    " .count()\n",
    " .reset_index()\n",
    " .sort_values(['restaurant_id'], ascending=False))"
   ]
  },
  {
   "cell_type": "markdown",
   "metadata": {},
   "source": [
    "### 2. Qual o nome da cidade que possui mais restaurantes com nota média acima de 4?"
   ]
  },
  {
   "cell_type": "code",
   "execution_count": null,
   "metadata": {},
   "outputs": [],
   "source": [
    "df_votes = df[df['votes'] == 4]\n",
    "(df_votes[['votes', 'city']]\n",
    " .groupby(['city'])\n",
    " .count()\n",
    " .reset_index()\n",
    " .sort_values(['votes'], ascending=False)\n",
    " .head())"
   ]
  },
  {
   "cell_type": "markdown",
   "metadata": {},
   "source": [
    "### 3. Qual o nome da cidade que possui mais restaurantes com nota média abaixo de 2.5?"
   ]
  },
  {
   "cell_type": "code",
   "execution_count": null,
   "metadata": {},
   "outputs": [],
   "source": [
    "df_votes = df[df['aggregate_rating'] < 2.5]\n",
    "(df_votes[['aggregate_rating', 'city']]\n",
    " .groupby(['city'])\n",
    " .count()\n",
    " .reset_index()\n",
    " .sort_values(['aggregate_rating'], ascending=False)\n",
    " .head())"
   ]
  },
  {
   "cell_type": "markdown",
   "metadata": {},
   "source": [
    "### 4. Qual o nome da cidade que possui o maior valor médio de um prato para dois?"
   ]
  },
  {
   "cell_type": "code",
   "execution_count": null,
   "metadata": {},
   "outputs": [],
   "source": [
    "(df[['restaurant_id', 'city', 'average_cost_for_two']]\n",
    " .groupby(['city', 'average_cost_for_two'])\n",
    " .count()\n",
    " .sort_values(['average_cost_for_two'], ascending=False)\n",
    " .head(1))"
   ]
  },
  {
   "cell_type": "markdown",
   "metadata": {},
   "source": [
    "### 5. Qual o nome da cidade que possui a maior quantidade de tipos de culinária distintas?"
   ]
  },
  {
   "cell_type": "code",
   "execution_count": null,
   "metadata": {},
   "outputs": [],
   "source": [
    "(df[['city', 'cuisines']]\n",
    " .groupby(['city'])\n",
    " .count()\n",
    " .reset_index()\n",
    " .sort_values(['cuisines'], ascending=False)\n",
    " .head(1))"
   ]
  },
  {
   "cell_type": "markdown",
   "metadata": {},
   "source": [
    "### 6. Qual o nome da cidade que possui a maior quantidade de restaurantes que fazem reservas?"
   ]
  },
  {
   "cell_type": "code",
   "execution_count": null,
   "metadata": {},
   "outputs": [],
   "source": [
    "df_booking = df[df['has_table_booking'] == 1]\n",
    "(df_booking[['city', 'has_table_booking']]\n",
    " .groupby(['city'])\n",
    " .count()\n",
    " .reset_index()\n",
    " .sort_values(['has_table_booking'], ascending=False)\n",
    " .head(1))"
   ]
  },
  {
   "cell_type": "markdown",
   "metadata": {},
   "source": [
    "### 7. Qual o nome da cidade que possui a maior quantidade de restaurantes que fazem entregas?"
   ]
  },
  {
   "cell_type": "code",
   "execution_count": null,
   "metadata": {},
   "outputs": [],
   "source": [
    "df_booking = df[df['is_delivering_now'] == 1]\n",
    "(df_booking[['city', 'is_delivering_now']]\n",
    " .groupby(['city'])\n",
    " .count()\n",
    " .reset_index()\n",
    " .sort_values(['is_delivering_now'], ascending=False)\n",
    " .head(1))"
   ]
  },
  {
   "cell_type": "markdown",
   "metadata": {},
   "source": [
    "### 8. Qual o nome da cidade que possui a maior quantidade de restaurantes que aceitam pedidos online?"
   ]
  },
  {
   "cell_type": "code",
   "execution_count": null,
   "metadata": {},
   "outputs": [],
   "source": [
    "df_booking = df[df['has_online_delivery'] == 1]\n",
    "(df_booking[['city', 'has_online_delivery']]\n",
    " .groupby(['city'])\n",
    " .count()\n",
    " .reset_index()\n",
    " .sort_values(['has_online_delivery'], ascending=False)\n",
    " .head(1))"
   ]
  },
  {
   "cell_type": "markdown",
   "metadata": {},
   "source": [
    "## 3.4 - Restaurante"
   ]
  },
  {
   "cell_type": "markdown",
   "metadata": {},
   "source": [
    "### 1. Qual o nome do restaurante que possui a maior quantidade de avaliações?"
   ]
  },
  {
   "cell_type": "code",
   "execution_count": null,
   "metadata": {},
   "outputs": [],
   "source": [
    "(df[['restaurant_name', 'votes']]\n",
    " .groupby(['restaurant_name'])\n",
    " .sum()\n",
    " .reset_index()\n",
    " .sort_values('votes', ascending=False)\n",
    " .head(1))"
   ]
  },
  {
   "cell_type": "markdown",
   "metadata": {},
   "source": [
    "### 2. Qual o nome do restaurante com a maior nota média?"
   ]
  },
  {
   "cell_type": "code",
   "execution_count": null,
   "metadata": {},
   "outputs": [],
   "source": [
    "(df[['restaurant_name', 'aggregate_rating']]\n",
    " .sort_values('aggregate_rating', ascending=False)\n",
    " .head(1))"
   ]
  },
  {
   "cell_type": "markdown",
   "metadata": {},
   "source": [
    "### 3. Qual o nome do restaurante que possui o maior valor de uma prato para duas pessoas?"
   ]
  },
  {
   "cell_type": "code",
   "execution_count": null,
   "metadata": {},
   "outputs": [],
   "source": [
    "(df[['restaurant_name', 'average_cost_for_two']]\n",
    " .sort_values(['average_cost_for_two'], ascending=False)\n",
    " .head(1))"
   ]
  },
  {
   "cell_type": "markdown",
   "metadata": {},
   "source": [
    "### 4. Qual o nome do restaurante de tipo de culinária brasileira que possui a menor média de avaliação?"
   ]
  },
  {
   "cell_type": "code",
   "execution_count": null,
   "metadata": {},
   "outputs": [],
   "source": [
    "df_brazilian = df.loc[df['cuisines'] == 'Brazilian', :].copy()\n",
    "df_brazilian['index'] = df_brazilian.index\n",
    "df_brazilian = df_brazilian.reset_index()\n",
    "(df_brazilian[['index', 'restaurant_name', 'aggregate_rating']]\n",
    " .sort_values(['aggregate_rating', 'index'], ascending=[False, True])\n",
    " .head(1))"
   ]
  },
  {
   "cell_type": "markdown",
   "metadata": {},
   "source": [
    "### 5. Qual o nome do restaurante de tipo de culinária brasileira, e que é do Brasil, que possui a maior média de avaliação?"
   ]
  },
  {
   "cell_type": "code",
   "execution_count": null,
   "metadata": {},
   "outputs": [],
   "source": [
    "df_brazil = (df.loc[\n",
    "    (df['cuisines'] == 'Brazilian') & \n",
    "    (df['country_name'] == 'Brazil'), :]\n",
    "    .copy())\n",
    "\n",
    "df_brazil['index'] = df_brazil.index\n",
    "df_brazil = df_brazil.reset_index()\n",
    "(df_brazil[['index', 'country_name', 'restaurant_name', 'aggregate_rating']]\n",
    " .sort_values(['aggregate_rating', 'index'], ascending=[False, True])\n",
    " .head(1))"
   ]
  },
  {
   "cell_type": "markdown",
   "metadata": {},
   "source": [
    "### 6. Os restaurantes que aceitam pedido online são também, na média, os restaurantes que mais possuem avaliações registradas?"
   ]
  },
  {
   "cell_type": "code",
   "execution_count": null,
   "metadata": {},
   "outputs": [],
   "source": [
    "df_delivery = df.loc[df['has_online_delivery'] == 1]\n",
    "(df_delivery[['restaurant_name', 'has_online_delivery','votes']]\n",
    " .groupby(['restaurant_name', 'has_online_delivery'], observed=False)\n",
    " .mean()\n",
    " .sort_values(['votes'], ascending=False)\n",
    " .reset_index()\n",
    " .head(1))\n"
   ]
  },
  {
   "cell_type": "markdown",
   "metadata": {},
   "source": [
    "### 7. Os restaurantes que fazem reservas são também, na média, os restaurantes que possuem o maior valor médio de um prato para duas pessoas?"
   ]
  },
  {
   "cell_type": "code",
   "execution_count": null,
   "metadata": {},
   "outputs": [],
   "source": [
    "(df[['restaurant_name', 'has_table_booking', 'average_cost_for_two']]\n",
    " .groupby(['has_table_booking', 'restaurant_name'], observed=False)\n",
    " .mean()\n",
    " .sort_values(['average_cost_for_two'], ascending=False)\n",
    " .reset_index()\n",
    " .head(2))\n"
   ]
  },
  {
   "cell_type": "code",
   "execution_count": null,
   "metadata": {},
   "outputs": [],
   "source": []
  },
  {
   "cell_type": "markdown",
   "metadata": {},
   "source": [
    "### 8. Os restaurantes do tipo de culinária japonesa dos Estados Unidos da América possuem um valor médio de prato para duas pessoas maior que as churrascarias americanas (BBQ)?"
   ]
  },
  {
   "cell_type": "code",
   "execution_count": null,
   "metadata": {},
   "outputs": [],
   "source": [
    "df_usa_aux = (df[\n",
    "    (df['country_name'] == 'United States of America') &\n",
    "    ((df['cuisines'] == 'Japanese') |\n",
    "    (df['restaurant_name'] == 'Blue Tractor BBQ & Brewery'))\n",
    "])\n",
    "(df_usa_aux[['country_name', \n",
    "         'cuisines',\n",
    "         'restaurant_name',\n",
    "         'average_cost_for_two'\n",
    "         ]]\n",
    "        .groupby(['country_name', \n",
    "                   'cuisines', \n",
    "                   'restaurant_name'\n",
    "                   ])\n",
    "        .mean()\n",
    "        .sort_values([\n",
    "            'cuisines', \n",
    "            'average_cost_for_two'\n",
    "        ], ascending=[True, False])\n",
    "        .head(2))"
   ]
  },
  {
   "cell_type": "markdown",
   "metadata": {},
   "source": [
    "## 3.5 - Tipos de Culinária"
   ]
  },
  {
   "cell_type": "markdown",
   "metadata": {},
   "source": [
    "### 1. Dos restaurantes que possuem o tipo de culinária italiana, qual o nome do restaurante com a maior média de avaliação?"
   ]
  },
  {
   "cell_type": "code",
   "execution_count": 68,
   "metadata": {},
   "outputs": [],
   "source": [
    "def restaurant_avg_rating(data, cuisine, ascending, total_lines=1):\n",
    "    df_filtered = data[data['cuisines'] == cuisine].copy()\n",
    "    df_filtered['index'] = df_filtered.index\n",
    "    df_result = (df_filtered[['index', 'cuisines', 'restaurant_name', 'aggregate_rating', 'country_name']]\n",
    "                    .sort_values(['aggregate_rating', 'index'], ascending=[ascending, True])\n",
    "                    .head(total_lines))\n",
    "    df_result = df_result.drop('index', axis=1)\n",
    "    if not df_result.empty:\n",
    "        return (\n",
    "            df_result.cuisines.iloc[0],\n",
    "            df_result.country_name.iloc[0],\n",
    "            df_result.restaurant_name.iloc[0],\n",
    "            df_result.aggregate_rating.iloc[0]\n",
    "        )\n",
    "    else:\n",
    "        return None, None, None, None\n",
    "\n",
    "df_countries = df.loc[df.country_name.isin(['England']), :]\n",
    "# cuisine, country, restaurant, rating = restaurant_avg_rating(data=df_countries, cuisine='Italian', ascending=False)\n",
    "# cuisine, country, restaurant, rating = restaurant_avg_rating(data=df_countries, cuisine='American', ascending=False)\n",
    "cuisine, country, restaurant, rating = restaurant_avg_rating(data=df_countries, cuisine='Arabian', ascending=False)\n",
    "# cuisine, country, restaurant, rating = restaurant_avg_rating(data=df_countries, cuisine='Japanese', ascending=False)\n",
    "# cuisine, country, restaurant, rating = restaurant_avg_rating(data=df_countries, cuisine='Brazilian', ascending=False)"
   ]
  },
  {
   "cell_type": "code",
   "execution_count": 59,
   "metadata": {},
   "outputs": [
    {
     "data": {
      "text/html": [
       "<div>\n",
       "<style scoped>\n",
       "    .dataframe tbody tr th:only-of-type {\n",
       "        vertical-align: middle;\n",
       "    }\n",
       "\n",
       "    .dataframe tbody tr th {\n",
       "        vertical-align: top;\n",
       "    }\n",
       "\n",
       "    .dataframe thead th {\n",
       "        text-align: right;\n",
       "    }\n",
       "</style>\n",
       "<table border=\"1\" class=\"dataframe\">\n",
       "  <thead>\n",
       "    <tr style=\"text-align: right;\">\n",
       "      <th></th>\n",
       "      <th>restaurant_id</th>\n",
       "      <th>restaurant_name</th>\n",
       "      <th>country_code</th>\n",
       "      <th>city</th>\n",
       "      <th>address</th>\n",
       "      <th>locality</th>\n",
       "      <th>locality_verbose</th>\n",
       "      <th>longitude</th>\n",
       "      <th>latitude</th>\n",
       "      <th>cuisines</th>\n",
       "      <th>average_cost_for_two</th>\n",
       "      <th>currency</th>\n",
       "      <th>has_table_booking</th>\n",
       "      <th>has_online_delivery</th>\n",
       "      <th>is_delivering_now</th>\n",
       "      <th>price_range</th>\n",
       "      <th>aggregate_rating</th>\n",
       "      <th>rating_color</th>\n",
       "      <th>rating_text</th>\n",
       "      <th>votes</th>\n",
       "      <th>rating_color_name</th>\n",
       "      <th>rating_name</th>\n",
       "      <th>country_name</th>\n",
       "      <th>price_type</th>\n",
       "    </tr>\n",
       "  </thead>\n",
       "  <tbody>\n",
       "    <tr>\n",
       "      <th>0</th>\n",
       "      <td>6310675</td>\n",
       "      <td>Mama Lou's Italian Kitchen</td>\n",
       "      <td>162</td>\n",
       "      <td>Las Piñas City</td>\n",
       "      <td>Block 1, Lot 36, Tropical Avenue Corner Tropic...</td>\n",
       "      <td>BF International</td>\n",
       "      <td>BF International, Las Piñas City</td>\n",
       "      <td>121.009787</td>\n",
       "      <td>14.447615</td>\n",
       "      <td>Italian</td>\n",
       "      <td>1100</td>\n",
       "      <td>Botswana Pula(P)</td>\n",
       "      <td>1</td>\n",
       "      <td>0</td>\n",
       "      <td>0</td>\n",
       "      <td>3</td>\n",
       "      <td>4.6</td>\n",
       "      <td>3F7E00</td>\n",
       "      <td>Excellent</td>\n",
       "      <td>619</td>\n",
       "      <td>darkgreen</td>\n",
       "      <td>excellent</td>\n",
       "      <td>Philippines</td>\n",
       "      <td>expensive</td>\n",
       "    </tr>\n",
       "    <tr>\n",
       "      <th>2</th>\n",
       "      <td>6314542</td>\n",
       "      <td>Blackbird</td>\n",
       "      <td>162</td>\n",
       "      <td>Makati City</td>\n",
       "      <td>Nielson Tower, Ayala Triangle Gardens, Salcedo...</td>\n",
       "      <td>Ayala Triangle Gardens, Salcedo Village, Makat...</td>\n",
       "      <td>Ayala Triangle Gardens, Salcedo Village, Makat...</td>\n",
       "      <td>121.024562</td>\n",
       "      <td>14.556042</td>\n",
       "      <td>European</td>\n",
       "      <td>3100</td>\n",
       "      <td>Botswana Pula(P)</td>\n",
       "      <td>0</td>\n",
       "      <td>0</td>\n",
       "      <td>0</td>\n",
       "      <td>4</td>\n",
       "      <td>4.7</td>\n",
       "      <td>3F7E00</td>\n",
       "      <td>Excellent</td>\n",
       "      <td>469</td>\n",
       "      <td>darkgreen</td>\n",
       "      <td>excellent</td>\n",
       "      <td>Philippines</td>\n",
       "      <td>gourmet</td>\n",
       "    </tr>\n",
       "    <tr>\n",
       "      <th>3</th>\n",
       "      <td>6301293</td>\n",
       "      <td>Banapple</td>\n",
       "      <td>162</td>\n",
       "      <td>Makati City</td>\n",
       "      <td>Ayala Triangle Gardens, Salcedo Village, Makat...</td>\n",
       "      <td>Ayala Triangle Gardens, Salcedo Village, Makat...</td>\n",
       "      <td>Ayala Triangle Gardens, Salcedo Village, Makat...</td>\n",
       "      <td>121.023171</td>\n",
       "      <td>14.556196</td>\n",
       "      <td>Filipino</td>\n",
       "      <td>800</td>\n",
       "      <td>Botswana Pula(P)</td>\n",
       "      <td>0</td>\n",
       "      <td>0</td>\n",
       "      <td>0</td>\n",
       "      <td>3</td>\n",
       "      <td>4.4</td>\n",
       "      <td>5BA829</td>\n",
       "      <td>Very Good</td>\n",
       "      <td>867</td>\n",
       "      <td>green</td>\n",
       "      <td>great</td>\n",
       "      <td>Philippines</td>\n",
       "      <td>expensive</td>\n",
       "    </tr>\n",
       "    <tr>\n",
       "      <th>4</th>\n",
       "      <td>6315689</td>\n",
       "      <td>Bad Bird</td>\n",
       "      <td>162</td>\n",
       "      <td>Makati City</td>\n",
       "      <td>Hole In The Wall, Floor 4, Century City Mall, ...</td>\n",
       "      <td>Century City Mall, Poblacion, Makati City</td>\n",
       "      <td>Century City Mall, Poblacion, Makati City, Mak...</td>\n",
       "      <td>121.027708</td>\n",
       "      <td>14.565899</td>\n",
       "      <td>American</td>\n",
       "      <td>700</td>\n",
       "      <td>Botswana Pula(P)</td>\n",
       "      <td>0</td>\n",
       "      <td>0</td>\n",
       "      <td>0</td>\n",
       "      <td>3</td>\n",
       "      <td>4.4</td>\n",
       "      <td>5BA829</td>\n",
       "      <td>Very Good</td>\n",
       "      <td>858</td>\n",
       "      <td>green</td>\n",
       "      <td>great</td>\n",
       "      <td>Philippines</td>\n",
       "      <td>expensive</td>\n",
       "    </tr>\n",
       "    <tr>\n",
       "      <th>5</th>\n",
       "      <td>6304833</td>\n",
       "      <td>Manam</td>\n",
       "      <td>162</td>\n",
       "      <td>Makati City</td>\n",
       "      <td>Level 1, Greenbelt 2, Ayala Center, Greenbelt,...</td>\n",
       "      <td>Greenbelt 2, San Lorenzo, Makati City</td>\n",
       "      <td>Greenbelt 2, San Lorenzo, Makati City, Makati ...</td>\n",
       "      <td>121.020380</td>\n",
       "      <td>14.552351</td>\n",
       "      <td>Filipino</td>\n",
       "      <td>700</td>\n",
       "      <td>Botswana Pula(P)</td>\n",
       "      <td>0</td>\n",
       "      <td>0</td>\n",
       "      <td>0</td>\n",
       "      <td>3</td>\n",
       "      <td>4.7</td>\n",
       "      <td>3F7E00</td>\n",
       "      <td>Excellent</td>\n",
       "      <td>930</td>\n",
       "      <td>darkgreen</td>\n",
       "      <td>excellent</td>\n",
       "      <td>Philippines</td>\n",
       "      <td>expensive</td>\n",
       "    </tr>\n",
       "    <tr>\n",
       "      <th>...</th>\n",
       "      <td>...</td>\n",
       "      <td>...</td>\n",
       "      <td>...</td>\n",
       "      <td>...</td>\n",
       "      <td>...</td>\n",
       "      <td>...</td>\n",
       "      <td>...</td>\n",
       "      <td>...</td>\n",
       "      <td>...</td>\n",
       "      <td>...</td>\n",
       "      <td>...</td>\n",
       "      <td>...</td>\n",
       "      <td>...</td>\n",
       "      <td>...</td>\n",
       "      <td>...</td>\n",
       "      <td>...</td>\n",
       "      <td>...</td>\n",
       "      <td>...</td>\n",
       "      <td>...</td>\n",
       "      <td>...</td>\n",
       "      <td>...</td>\n",
       "      <td>...</td>\n",
       "      <td>...</td>\n",
       "      <td>...</td>\n",
       "    </tr>\n",
       "    <tr>\n",
       "      <th>7522</th>\n",
       "      <td>5912546</td>\n",
       "      <td>Eataly</td>\n",
       "      <td>208</td>\n",
       "      <td>İstanbul</td>\n",
       "      <td>Zorlu Center AVM, Köprü Katı, Levazım Mahalles...</td>\n",
       "      <td>Zorlu Center AVM, Levazım, Beşiktaş</td>\n",
       "      <td>Zorlu Center AVM, Levazım, Beşiktaş, İstanbul</td>\n",
       "      <td>29.017326</td>\n",
       "      <td>41.065322</td>\n",
       "      <td>Italian</td>\n",
       "      <td>300</td>\n",
       "      <td>Turkish Lira(TL)</td>\n",
       "      <td>0</td>\n",
       "      <td>0</td>\n",
       "      <td>0</td>\n",
       "      <td>4</td>\n",
       "      <td>4.3</td>\n",
       "      <td>5BA829</td>\n",
       "      <td>Very Good</td>\n",
       "      <td>1367</td>\n",
       "      <td>green</td>\n",
       "      <td>great</td>\n",
       "      <td>Turkey</td>\n",
       "      <td>gourmet</td>\n",
       "    </tr>\n",
       "    <tr>\n",
       "      <th>7523</th>\n",
       "      <td>5913006</td>\n",
       "      <td>Tarihi Çınaraltı Aile Çay Bahçesi</td>\n",
       "      <td>208</td>\n",
       "      <td>İstanbul</td>\n",
       "      <td>Çengelköy Mahallesi, Çınaraltı Camii Sokak, No...</td>\n",
       "      <td>Çengelköy Merkez</td>\n",
       "      <td>Çengelköy Merkez, İstanbul</td>\n",
       "      <td>29.052620</td>\n",
       "      <td>41.050280</td>\n",
       "      <td>Fast Food</td>\n",
       "      <td>45</td>\n",
       "      <td>Turkish Lira(TL)</td>\n",
       "      <td>0</td>\n",
       "      <td>0</td>\n",
       "      <td>0</td>\n",
       "      <td>2</td>\n",
       "      <td>4.5</td>\n",
       "      <td>3F7E00</td>\n",
       "      <td>Excellent</td>\n",
       "      <td>1172</td>\n",
       "      <td>darkgreen</td>\n",
       "      <td>excellent</td>\n",
       "      <td>Turkey</td>\n",
       "      <td>normal</td>\n",
       "    </tr>\n",
       "    <tr>\n",
       "      <th>7524</th>\n",
       "      <td>5923535</td>\n",
       "      <td>Boon Cafe &amp; Restaurant</td>\n",
       "      <td>208</td>\n",
       "      <td>İstanbul</td>\n",
       "      <td>Çengelköy Mahallesi, Çengelköy Caddesi, Kara S...</td>\n",
       "      <td>Çengelköy Merkez</td>\n",
       "      <td>Çengelköy Merkez, İstanbul</td>\n",
       "      <td>29.052623</td>\n",
       "      <td>41.050717</td>\n",
       "      <td>Restaurant Cafe</td>\n",
       "      <td>140</td>\n",
       "      <td>Turkish Lira(TL)</td>\n",
       "      <td>0</td>\n",
       "      <td>0</td>\n",
       "      <td>0</td>\n",
       "      <td>4</td>\n",
       "      <td>4.2</td>\n",
       "      <td>5BA829</td>\n",
       "      <td>Very Good</td>\n",
       "      <td>1160</td>\n",
       "      <td>green</td>\n",
       "      <td>great</td>\n",
       "      <td>Turkey</td>\n",
       "      <td>gourmet</td>\n",
       "    </tr>\n",
       "    <tr>\n",
       "      <th>7525</th>\n",
       "      <td>5914190</td>\n",
       "      <td>Kanaat Lokantası</td>\n",
       "      <td>208</td>\n",
       "      <td>İstanbul</td>\n",
       "      <td>Sultantepe Mahallesi, Selmani Pak Caddesi, No ...</td>\n",
       "      <td>Üsküdar Merkez</td>\n",
       "      <td>Üsküdar Merkez, İstanbul</td>\n",
       "      <td>29.016590</td>\n",
       "      <td>41.025741</td>\n",
       "      <td>Home-made</td>\n",
       "      <td>95</td>\n",
       "      <td>Turkish Lira(TL)</td>\n",
       "      <td>0</td>\n",
       "      <td>0</td>\n",
       "      <td>0</td>\n",
       "      <td>3</td>\n",
       "      <td>4.0</td>\n",
       "      <td>5BA829</td>\n",
       "      <td>Very Good</td>\n",
       "      <td>770</td>\n",
       "      <td>green</td>\n",
       "      <td>great</td>\n",
       "      <td>Turkey</td>\n",
       "      <td>expensive</td>\n",
       "    </tr>\n",
       "    <tr>\n",
       "      <th>7526</th>\n",
       "      <td>5913508</td>\n",
       "      <td>Katibim</td>\n",
       "      <td>208</td>\n",
       "      <td>İstanbul</td>\n",
       "      <td>Mimar Sinan Mahallesi, Harem Sahilyolu, No 53,...</td>\n",
       "      <td>Üsküdar Merkez</td>\n",
       "      <td>Üsküdar Merkez, İstanbul</td>\n",
       "      <td>29.010808</td>\n",
       "      <td>41.025501</td>\n",
       "      <td>Restaurant Cafe</td>\n",
       "      <td>150</td>\n",
       "      <td>Turkish Lira(TL)</td>\n",
       "      <td>0</td>\n",
       "      <td>0</td>\n",
       "      <td>0</td>\n",
       "      <td>4</td>\n",
       "      <td>4.2</td>\n",
       "      <td>5BA829</td>\n",
       "      <td>Very Good</td>\n",
       "      <td>1141</td>\n",
       "      <td>green</td>\n",
       "      <td>great</td>\n",
       "      <td>Turkey</td>\n",
       "      <td>gourmet</td>\n",
       "    </tr>\n",
       "  </tbody>\n",
       "</table>\n",
       "<p>6929 rows × 24 columns</p>\n",
       "</div>"
      ],
      "text/plain": [
       "      restaurant_id                    restaurant_name  country_code  \\\n",
       "0           6310675         Mama Lou's Italian Kitchen           162   \n",
       "2           6314542                          Blackbird           162   \n",
       "3           6301293                           Banapple           162   \n",
       "4           6315689                           Bad Bird           162   \n",
       "5           6304833                              Manam           162   \n",
       "...             ...                                ...           ...   \n",
       "7522        5912546                             Eataly           208   \n",
       "7523        5913006  Tarihi Çınaraltı Aile Çay Bahçesi           208   \n",
       "7524        5923535             Boon Cafe & Restaurant           208   \n",
       "7525        5914190                   Kanaat Lokantası           208   \n",
       "7526        5913508                            Katibim           208   \n",
       "\n",
       "                city                                            address  \\\n",
       "0     Las Piñas City  Block 1, Lot 36, Tropical Avenue Corner Tropic...   \n",
       "2        Makati City  Nielson Tower, Ayala Triangle Gardens, Salcedo...   \n",
       "3        Makati City  Ayala Triangle Gardens, Salcedo Village, Makat...   \n",
       "4        Makati City  Hole In The Wall, Floor 4, Century City Mall, ...   \n",
       "5        Makati City  Level 1, Greenbelt 2, Ayala Center, Greenbelt,...   \n",
       "...              ...                                                ...   \n",
       "7522        İstanbul  Zorlu Center AVM, Köprü Katı, Levazım Mahalles...   \n",
       "7523        İstanbul  Çengelköy Mahallesi, Çınaraltı Camii Sokak, No...   \n",
       "7524        İstanbul  Çengelköy Mahallesi, Çengelköy Caddesi, Kara S...   \n",
       "7525        İstanbul  Sultantepe Mahallesi, Selmani Pak Caddesi, No ...   \n",
       "7526        İstanbul  Mimar Sinan Mahallesi, Harem Sahilyolu, No 53,...   \n",
       "\n",
       "                                               locality  \\\n",
       "0                                      BF International   \n",
       "2     Ayala Triangle Gardens, Salcedo Village, Makat...   \n",
       "3     Ayala Triangle Gardens, Salcedo Village, Makat...   \n",
       "4             Century City Mall, Poblacion, Makati City   \n",
       "5                 Greenbelt 2, San Lorenzo, Makati City   \n",
       "...                                                 ...   \n",
       "7522                Zorlu Center AVM, Levazım, Beşiktaş   \n",
       "7523                                   Çengelköy Merkez   \n",
       "7524                                   Çengelköy Merkez   \n",
       "7525                                     Üsküdar Merkez   \n",
       "7526                                     Üsküdar Merkez   \n",
       "\n",
       "                                       locality_verbose   longitude  \\\n",
       "0                      BF International, Las Piñas City  121.009787   \n",
       "2     Ayala Triangle Gardens, Salcedo Village, Makat...  121.024562   \n",
       "3     Ayala Triangle Gardens, Salcedo Village, Makat...  121.023171   \n",
       "4     Century City Mall, Poblacion, Makati City, Mak...  121.027708   \n",
       "5     Greenbelt 2, San Lorenzo, Makati City, Makati ...  121.020380   \n",
       "...                                                 ...         ...   \n",
       "7522      Zorlu Center AVM, Levazım, Beşiktaş, İstanbul   29.017326   \n",
       "7523                         Çengelköy Merkez, İstanbul   29.052620   \n",
       "7524                         Çengelköy Merkez, İstanbul   29.052623   \n",
       "7525                           Üsküdar Merkez, İstanbul   29.016590   \n",
       "7526                           Üsküdar Merkez, İstanbul   29.010808   \n",
       "\n",
       "       latitude         cuisines  average_cost_for_two          currency  \\\n",
       "0     14.447615          Italian                  1100  Botswana Pula(P)   \n",
       "2     14.556042         European                  3100  Botswana Pula(P)   \n",
       "3     14.556196         Filipino                   800  Botswana Pula(P)   \n",
       "4     14.565899         American                   700  Botswana Pula(P)   \n",
       "5     14.552351         Filipino                   700  Botswana Pula(P)   \n",
       "...         ...              ...                   ...               ...   \n",
       "7522  41.065322          Italian                   300  Turkish Lira(TL)   \n",
       "7523  41.050280        Fast Food                    45  Turkish Lira(TL)   \n",
       "7524  41.050717  Restaurant Cafe                   140  Turkish Lira(TL)   \n",
       "7525  41.025741        Home-made                    95  Turkish Lira(TL)   \n",
       "7526  41.025501  Restaurant Cafe                   150  Turkish Lira(TL)   \n",
       "\n",
       "     has_table_booking has_online_delivery is_delivering_now price_range  \\\n",
       "0                    1                   0                 0           3   \n",
       "2                    0                   0                 0           4   \n",
       "3                    0                   0                 0           3   \n",
       "4                    0                   0                 0           3   \n",
       "5                    0                   0                 0           3   \n",
       "...                ...                 ...               ...         ...   \n",
       "7522                 0                   0                 0           4   \n",
       "7523                 0                   0                 0           2   \n",
       "7524                 0                   0                 0           4   \n",
       "7525                 0                   0                 0           3   \n",
       "7526                 0                   0                 0           4   \n",
       "\n",
       "      aggregate_rating rating_color rating_text  votes rating_color_name  \\\n",
       "0                  4.6       3F7E00   Excellent    619         darkgreen   \n",
       "2                  4.7       3F7E00   Excellent    469         darkgreen   \n",
       "3                  4.4       5BA829   Very Good    867             green   \n",
       "4                  4.4       5BA829   Very Good    858             green   \n",
       "5                  4.7       3F7E00   Excellent    930         darkgreen   \n",
       "...                ...          ...         ...    ...               ...   \n",
       "7522               4.3       5BA829   Very Good   1367             green   \n",
       "7523               4.5       3F7E00   Excellent   1172         darkgreen   \n",
       "7524               4.2       5BA829   Very Good   1160             green   \n",
       "7525               4.0       5BA829   Very Good    770             green   \n",
       "7526               4.2       5BA829   Very Good   1141             green   \n",
       "\n",
       "     rating_name country_name price_type  \n",
       "0      excellent  Philippines  expensive  \n",
       "2      excellent  Philippines    gourmet  \n",
       "3          great  Philippines  expensive  \n",
       "4          great  Philippines  expensive  \n",
       "5      excellent  Philippines  expensive  \n",
       "...          ...          ...        ...  \n",
       "7522       great       Turkey    gourmet  \n",
       "7523   excellent       Turkey     normal  \n",
       "7524       great       Turkey    gourmet  \n",
       "7525       great       Turkey  expensive  \n",
       "7526       great       Turkey    gourmet  \n",
       "\n",
       "[6929 rows x 24 columns]"
      ]
     },
     "execution_count": 59,
     "metadata": {},
     "output_type": "execute_result"
    }
   ],
   "source": [
    "utils.restaurant_avg_rating(data=df, cuisine='Italian', ascending=False)"
   ]
  },
  {
   "cell_type": "markdown",
   "metadata": {},
   "source": [
    "### 2. Dos restaurantes que possuem o tipo de culinária italiana, qual o nome do restaurante com a menor média de avaliação?"
   ]
  },
  {
   "cell_type": "code",
   "execution_count": null,
   "metadata": {},
   "outputs": [],
   "source": [
    "Utils.restaurant_avg_rating(data=df, cuisine='Italian', ascending=True)"
   ]
  },
  {
   "cell_type": "markdown",
   "metadata": {},
   "source": [
    "### 3. Dos restaurantes que possuem o tipo de culinária americana, qual o nome do restaurante com a maior média de avaliação?"
   ]
  },
  {
   "cell_type": "code",
   "execution_count": null,
   "metadata": {},
   "outputs": [],
   "source": [
    "Utils.restaurant_avg_rating(data=df, cuisine='American', ascending=False)"
   ]
  },
  {
   "cell_type": "markdown",
   "metadata": {},
   "source": [
    "### 4. Dos restaurantes que possuem o tipo de culinária americana, qual o nome do restaurante com a menor média de avaliação?"
   ]
  },
  {
   "cell_type": "code",
   "execution_count": null,
   "metadata": {},
   "outputs": [],
   "source": [
    "Utils.restaurant_avg_rating(data=df, cuisine='American', ascending=True)"
   ]
  },
  {
   "cell_type": "markdown",
   "metadata": {},
   "source": [
    "### 5. Dos restaurantes que possuem o tipo de culinária árabe, qual o nome do restaurante com a maior média de avaliação?"
   ]
  },
  {
   "cell_type": "code",
   "execution_count": null,
   "metadata": {},
   "outputs": [],
   "source": [
    "Utils.restaurant_avg_rating(data=df, cuisine='Arabian', ascending=False)"
   ]
  },
  {
   "cell_type": "markdown",
   "metadata": {},
   "source": [
    "### 6. Dos restaurantes que possuem o tipo de culinária árabe, qual o nome do restaurante com a menor média de avaliação?"
   ]
  },
  {
   "cell_type": "code",
   "execution_count": null,
   "metadata": {},
   "outputs": [],
   "source": [
    "Utils.restaurant_avg_rating(data=df, cuisine='Arabian', ascending=True)"
   ]
  },
  {
   "cell_type": "markdown",
   "metadata": {},
   "source": [
    "### 7. Dos restaurantes que possuem o tipo de culinária japonesa, qual o nome do restaurante com a maior média de avaliação?"
   ]
  },
  {
   "cell_type": "code",
   "execution_count": null,
   "metadata": {},
   "outputs": [],
   "source": [
    "Utils.restaurant_avg_rating(data=df, cuisine='Japanese', ascending=False)"
   ]
  },
  {
   "cell_type": "markdown",
   "metadata": {},
   "source": [
    "### 8. Dos restaurantes que possuem o tipo de culinária japonesa, qual o nome do restaurante com a menor média de avaliação?"
   ]
  },
  {
   "cell_type": "code",
   "execution_count": null,
   "metadata": {},
   "outputs": [],
   "source": [
    "Utils.restaurant_avg_rating(data=df, cuisine='Japanese', ascending=True)"
   ]
  },
  {
   "cell_type": "markdown",
   "metadata": {},
   "source": [
    "### 9. Dos restaurantes que possuem o tipo de culinária caseira, qual o nome do restaurante com a maior média de avaliação?"
   ]
  },
  {
   "cell_type": "code",
   "execution_count": null,
   "metadata": {},
   "outputs": [],
   "source": [
    "Utils.restaurant_avg_rating(data=df, cuisine='Home-made', ascending=False)"
   ]
  },
  {
   "cell_type": "markdown",
   "metadata": {},
   "source": [
    "### 10. Dos restaurantes que possuem o tipo de culinária caseira, qual o nome do restaurante com a menor média de avaliação?"
   ]
  },
  {
   "cell_type": "code",
   "execution_count": null,
   "metadata": {},
   "outputs": [],
   "source": [
    "Utils.restaurant_avg_rating(data=df, cuisine='Home-made', ascending=True)"
   ]
  },
  {
   "cell_type": "markdown",
   "metadata": {},
   "source": [
    "### 11. Qual o tipo de culinária que possui o maior valor médio de um prato para duas pessoas?"
   ]
  },
  {
   "cell_type": "code",
   "execution_count": null,
   "metadata": {},
   "outputs": [],
   "source": [
    "df_cuis_filtered = df[['cuisines', 'average_cost_for_two']].copy()\n",
    "df_cuis_filtered['index'] = df_cuis_filtered.index\n",
    "df_cuis = (df_cuis_filtered.sort_values(['average_cost_for_two', 'index'], ascending=[False, True])\n",
    "        .head(1))\n",
    "df_cuis = df_cuis.drop('index', axis=1)\n",
    "df_cuis"
   ]
  },
  {
   "cell_type": "markdown",
   "metadata": {},
   "source": [
    "### 12. Qual o tipo de culinária que possui a maior nota média?"
   ]
  },
  {
   "cell_type": "code",
   "execution_count": null,
   "metadata": {},
   "outputs": [],
   "source": [
    "df_cuis_filtered = df[['cuisines', 'aggregate_rating']].copy()\n",
    "df_cuis_filtered['index'] = df_cuis_filtered.index\n",
    "df_cuis = (df_cuis_filtered.sort_values(['aggregate_rating', 'index'], ascending=[False, True])\n",
    "        .head(1))\n",
    "df_cuis = df_cuis.drop('index', axis=1)\n",
    "df_cuis"
   ]
  },
  {
   "cell_type": "markdown",
   "metadata": {},
   "source": [
    "### 13. Qual o tipo de culinária que possui mais restaurantes que aceitam pedidos online e fazem entregas?"
   ]
  },
  {
   "cell_type": "code",
   "execution_count": null,
   "metadata": {},
   "outputs": [],
   "source": [
    "\n",
    "df_deliv = df[(df['has_online_delivery'] == 1) & (df['is_delivering_now'] == 1)]\n",
    "\n",
    "df_deliv_result = (df_deliv[['restaurant_id', 'cuisines']]\n",
    " .groupby('cuisines')\n",
    " .count()\n",
    " .sort_values('restaurant_id', ascending=False)\n",
    " .reset_index()\n",
    " .head(1))\n",
    "df_deliv_result.columns = ['cuisines', 'total de restaurantes']\n",
    "df_deliv_result"
   ]
  }
 ],
 "metadata": {
  "kernelspec": {
   "display_name": "ftc_projeto_do_aluno",
   "language": "python",
   "name": "python3"
  },
  "language_info": {
   "codemirror_mode": {
    "name": "ipython",
    "version": 3
   },
   "file_extension": ".py",
   "mimetype": "text/x-python",
   "name": "python",
   "nbconvert_exporter": "python",
   "pygments_lexer": "ipython3",
   "version": "3.11.4"
  }
 },
 "nbformat": 4,
 "nbformat_minor": 2
}
